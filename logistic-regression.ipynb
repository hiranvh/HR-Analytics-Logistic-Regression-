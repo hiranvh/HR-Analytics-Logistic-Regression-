{
 "cells": [
  {
   "cell_type": "code",
   "execution_count": 1,
   "id": "dc7d85cb",
   "metadata": {
    "_cell_guid": "b1076dfc-b9ad-4769-8c92-a6c4dae69d19",
    "_uuid": "8f2839f25d086af736a60e9eeb907d3b93b6e0e5",
    "execution": {
     "iopub.execute_input": "2022-04-06T13:50:28.844876Z",
     "iopub.status.busy": "2022-04-06T13:50:28.843600Z",
     "iopub.status.idle": "2022-04-06T13:50:28.861117Z",
     "shell.execute_reply": "2022-04-06T13:50:28.860149Z",
     "shell.execute_reply.started": "2022-04-06T13:35:24.716070Z"
    },
    "papermill": {
     "duration": 0.053125,
     "end_time": "2022-04-06T13:50:28.861371",
     "exception": false,
     "start_time": "2022-04-06T13:50:28.808246",
     "status": "completed"
    },
    "tags": []
   },
   "outputs": [
    {
     "name": "stdout",
     "output_type": "stream",
     "text": [
      "/kaggle/input/hr-analytics/HR_comma_sep.csv\n"
     ]
    }
   ],
   "source": [
    "# This Python 3 environment comes with many helpful analytics libraries installed\n",
    "# It is defined by the kaggle/python Docker image: https://github.com/kaggle/docker-python\n",
    "# For example, here's several helpful packages to load\n",
    "\n",
    "import numpy as np # linear algebra\n",
    "import pandas as pd # data processing, CSV file I/O (e.g. pd.read_csv)\n",
    "\n",
    "# Input data files are available in the read-only \"../input/\" directory\n",
    "# For example, running this (by clicking run or pressing Shift+Enter) will list all files under the input directory\n",
    "\n",
    "import os\n",
    "for dirname, _, filenames in os.walk('/kaggle/input'):\n",
    "    for filename in filenames:\n",
    "        print(os.path.join(dirname, filename))\n",
    "\n",
    "# You can write up to 20GB to the current directory (/kaggle/working/) that gets preserved as output when you create a version using \"Save & Run All\" \n",
    "# You can also write temporary files to /kaggle/temp/, but they won't be saved outside of the current session"
   ]
  },
  {
   "cell_type": "code",
   "execution_count": 2,
   "id": "6b411ce7",
   "metadata": {
    "execution": {
     "iopub.execute_input": "2022-04-06T13:50:28.929280Z",
     "iopub.status.busy": "2022-04-06T13:50:28.928615Z",
     "iopub.status.idle": "2022-04-06T13:50:28.988568Z",
     "shell.execute_reply": "2022-04-06T13:50:28.989046Z",
     "shell.execute_reply.started": "2022-04-06T13:35:24.845596Z"
    },
    "papermill": {
     "duration": 0.095493,
     "end_time": "2022-04-06T13:50:28.989216",
     "exception": false,
     "start_time": "2022-04-06T13:50:28.893723",
     "status": "completed"
    },
    "tags": []
   },
   "outputs": [
    {
     "data": {
      "text/html": [
       "<div>\n",
       "<style scoped>\n",
       "    .dataframe tbody tr th:only-of-type {\n",
       "        vertical-align: middle;\n",
       "    }\n",
       "\n",
       "    .dataframe tbody tr th {\n",
       "        vertical-align: top;\n",
       "    }\n",
       "\n",
       "    .dataframe thead th {\n",
       "        text-align: right;\n",
       "    }\n",
       "</style>\n",
       "<table border=\"1\" class=\"dataframe\">\n",
       "  <thead>\n",
       "    <tr style=\"text-align: right;\">\n",
       "      <th></th>\n",
       "      <th>satisfaction_level</th>\n",
       "      <th>last_evaluation</th>\n",
       "      <th>number_project</th>\n",
       "      <th>average_montly_hours</th>\n",
       "      <th>time_spend_company</th>\n",
       "      <th>Work_accident</th>\n",
       "      <th>left</th>\n",
       "      <th>promotion_last_5years</th>\n",
       "      <th>Department</th>\n",
       "      <th>salary</th>\n",
       "    </tr>\n",
       "  </thead>\n",
       "  <tbody>\n",
       "    <tr>\n",
       "      <th>4055</th>\n",
       "      <td>0.80</td>\n",
       "      <td>0.66</td>\n",
       "      <td>4</td>\n",
       "      <td>181</td>\n",
       "      <td>3</td>\n",
       "      <td>1</td>\n",
       "      <td>0</td>\n",
       "      <td>0</td>\n",
       "      <td>sales</td>\n",
       "      <td>low</td>\n",
       "    </tr>\n",
       "    <tr>\n",
       "      <th>4582</th>\n",
       "      <td>0.91</td>\n",
       "      <td>0.51</td>\n",
       "      <td>2</td>\n",
       "      <td>211</td>\n",
       "      <td>2</td>\n",
       "      <td>0</td>\n",
       "      <td>0</td>\n",
       "      <td>0</td>\n",
       "      <td>accounting</td>\n",
       "      <td>medium</td>\n",
       "    </tr>\n",
       "    <tr>\n",
       "      <th>13970</th>\n",
       "      <td>0.74</td>\n",
       "      <td>0.98</td>\n",
       "      <td>3</td>\n",
       "      <td>166</td>\n",
       "      <td>3</td>\n",
       "      <td>1</td>\n",
       "      <td>0</td>\n",
       "      <td>1</td>\n",
       "      <td>management</td>\n",
       "      <td>high</td>\n",
       "    </tr>\n",
       "    <tr>\n",
       "      <th>601</th>\n",
       "      <td>0.84</td>\n",
       "      <td>0.94</td>\n",
       "      <td>5</td>\n",
       "      <td>222</td>\n",
       "      <td>6</td>\n",
       "      <td>0</td>\n",
       "      <td>1</td>\n",
       "      <td>0</td>\n",
       "      <td>product_mng</td>\n",
       "      <td>low</td>\n",
       "    </tr>\n",
       "    <tr>\n",
       "      <th>4927</th>\n",
       "      <td>0.67</td>\n",
       "      <td>0.58</td>\n",
       "      <td>3</td>\n",
       "      <td>246</td>\n",
       "      <td>3</td>\n",
       "      <td>0</td>\n",
       "      <td>0</td>\n",
       "      <td>0</td>\n",
       "      <td>technical</td>\n",
       "      <td>medium</td>\n",
       "    </tr>\n",
       "  </tbody>\n",
       "</table>\n",
       "</div>"
      ],
      "text/plain": [
       "       satisfaction_level  last_evaluation  number_project  \\\n",
       "4055                 0.80             0.66               4   \n",
       "4582                 0.91             0.51               2   \n",
       "13970                0.74             0.98               3   \n",
       "601                  0.84             0.94               5   \n",
       "4927                 0.67             0.58               3   \n",
       "\n",
       "       average_montly_hours  time_spend_company  Work_accident  left  \\\n",
       "4055                    181                   3              1     0   \n",
       "4582                    211                   2              0     0   \n",
       "13970                   166                   3              1     0   \n",
       "601                     222                   6              0     1   \n",
       "4927                    246                   3              0     0   \n",
       "\n",
       "       promotion_last_5years   Department  salary  \n",
       "4055                       0        sales     low  \n",
       "4582                       0   accounting  medium  \n",
       "13970                      1   management    high  \n",
       "601                        0  product_mng     low  \n",
       "4927                       0    technical  medium  "
      ]
     },
     "execution_count": 2,
     "metadata": {},
     "output_type": "execute_result"
    }
   ],
   "source": [
    "df = pd.read_csv(\"/kaggle/input/hr-analytics/HR_comma_sep.csv\")\n",
    "df.sample(5)"
   ]
  },
  {
   "cell_type": "code",
   "execution_count": 3,
   "id": "bddbc697",
   "metadata": {
    "execution": {
     "iopub.execute_input": "2022-04-06T13:50:29.060047Z",
     "iopub.status.busy": "2022-04-06T13:50:29.057266Z",
     "iopub.status.idle": "2022-04-06T13:50:29.063885Z",
     "shell.execute_reply": "2022-04-06T13:50:29.063131Z",
     "shell.execute_reply.started": "2022-04-06T13:35:24.942045Z"
    },
    "papermill": {
     "duration": 0.04275,
     "end_time": "2022-04-06T13:50:29.064034",
     "exception": false,
     "start_time": "2022-04-06T13:50:29.021284",
     "status": "completed"
    },
    "tags": []
   },
   "outputs": [
    {
     "data": {
      "text/plain": [
       "(14999, 10)"
      ]
     },
     "execution_count": 3,
     "metadata": {},
     "output_type": "execute_result"
    }
   ],
   "source": [
    "df.shape"
   ]
  },
  {
   "cell_type": "code",
   "execution_count": 4,
   "id": "fe55d573",
   "metadata": {
    "execution": {
     "iopub.execute_input": "2022-04-06T13:50:29.133491Z",
     "iopub.status.busy": "2022-04-06T13:50:29.132730Z",
     "iopub.status.idle": "2022-04-06T13:50:30.989419Z",
     "shell.execute_reply": "2022-04-06T13:50:30.989969Z",
     "shell.execute_reply.started": "2022-04-06T13:35:25.029452Z"
    },
    "papermill": {
     "duration": 1.893465,
     "end_time": "2022-04-06T13:50:30.990146",
     "exception": false,
     "start_time": "2022-04-06T13:50:29.096681",
     "status": "completed"
    },
    "tags": []
   },
   "outputs": [
    {
     "data": {
      "text/plain": [
       "<AxesSubplot:>"
      ]
     },
     "execution_count": 4,
     "metadata": {},
     "output_type": "execute_result"
    },
    {
     "data": {
      "image/png": "[encoded data removed]",
      "text/plain": [
       "<Figure size 432x288 with 2 Axes>"
      ]
     },
     "metadata": {
      "needs_background": "light"
     },
     "output_type": "display_data"
    }
   ],
   "source": [
    "import seaborn as sns\n",
    "df_heat = df.corr()\n",
    "sns.heatmap(df_heat, annot=True)"
   ]
  },
  {
   "cell_type": "code",
   "execution_count": 5,
   "id": "093a6ac5",
   "metadata": {
    "execution": {
     "iopub.execute_input": "2022-04-06T13:50:31.066090Z",
     "iopub.status.busy": "2022-04-06T13:50:31.065335Z",
     "iopub.status.idle": "2022-04-06T13:50:31.068333Z",
     "shell.execute_reply": "2022-04-06T13:50:31.069008Z",
     "shell.execute_reply.started": "2022-04-06T13:35:25.642577Z"
    },
    "papermill": {
     "duration": 0.044374,
     "end_time": "2022-04-06T13:50:31.069190",
     "exception": false,
     "start_time": "2022-04-06T13:50:31.024816",
     "status": "completed"
    },
    "tags": []
   },
   "outputs": [
    {
     "data": {
      "text/plain": [
       "Index(['satisfaction_level', 'last_evaluation', 'number_project',\n",
       "       'average_montly_hours', 'time_spend_company', 'Work_accident', 'left',\n",
       "       'promotion_last_5years', 'Department', 'salary'],\n",
       "      dtype='object')"
      ]
     },
     "execution_count": 5,
     "metadata": {},
     "output_type": "execute_result"
    }
   ],
   "source": [
    "df.columns"
   ]
  },
  {
   "cell_type": "code",
   "execution_count": 6,
   "id": "de62b7f3",
   "metadata": {
    "execution": {
     "iopub.execute_input": "2022-04-06T13:50:31.143588Z",
     "iopub.status.busy": "2022-04-06T13:50:31.142878Z",
     "iopub.status.idle": "2022-04-06T13:50:31.162492Z",
     "shell.execute_reply": "2022-04-06T13:50:31.161859Z",
     "shell.execute_reply.started": "2022-04-06T13:35:25.649846Z"
    },
    "papermill": {
     "duration": 0.05785,
     "end_time": "2022-04-06T13:50:31.162631",
     "exception": false,
     "start_time": "2022-04-06T13:50:31.104781",
     "status": "completed"
    },
    "tags": []
   },
   "outputs": [
    {
     "data": {
      "text/html": [
       "<div>\n",
       "<style scoped>\n",
       "    .dataframe tbody tr th:only-of-type {\n",
       "        vertical-align: middle;\n",
       "    }\n",
       "\n",
       "    .dataframe tbody tr th {\n",
       "        vertical-align: top;\n",
       "    }\n",
       "\n",
       "    .dataframe thead th {\n",
       "        text-align: right;\n",
       "    }\n",
       "</style>\n",
       "<table border=\"1\" class=\"dataframe\">\n",
       "  <thead>\n",
       "    <tr style=\"text-align: right;\">\n",
       "      <th></th>\n",
       "      <th>satisfaction_level</th>\n",
       "      <th>last_evaluation</th>\n",
       "      <th>number_project</th>\n",
       "      <th>average_montly_hours</th>\n",
       "      <th>time_spend_company</th>\n",
       "      <th>Work_accident</th>\n",
       "      <th>left</th>\n",
       "      <th>promotion_last_5years</th>\n",
       "      <th>Department</th>\n",
       "      <th>salary</th>\n",
       "    </tr>\n",
       "  </thead>\n",
       "  <tbody>\n",
       "    <tr>\n",
       "      <th>14230</th>\n",
       "      <td>0.76</td>\n",
       "      <td>0.89</td>\n",
       "      <td>5</td>\n",
       "      <td>262</td>\n",
       "      <td>5</td>\n",
       "      <td>0</td>\n",
       "      <td>1</td>\n",
       "      <td>0</td>\n",
       "      <td>sales</td>\n",
       "      <td>low</td>\n",
       "    </tr>\n",
       "    <tr>\n",
       "      <th>1503</th>\n",
       "      <td>0.40</td>\n",
       "      <td>0.46</td>\n",
       "      <td>2</td>\n",
       "      <td>155</td>\n",
       "      <td>3</td>\n",
       "      <td>0</td>\n",
       "      <td>1</td>\n",
       "      <td>0</td>\n",
       "      <td>support</td>\n",
       "      <td>medium</td>\n",
       "    </tr>\n",
       "    <tr>\n",
       "      <th>12347</th>\n",
       "      <td>0.11</td>\n",
       "      <td>0.80</td>\n",
       "      <td>6</td>\n",
       "      <td>282</td>\n",
       "      <td>4</td>\n",
       "      <td>0</td>\n",
       "      <td>1</td>\n",
       "      <td>0</td>\n",
       "      <td>technical</td>\n",
       "      <td>medium</td>\n",
       "    </tr>\n",
       "    <tr>\n",
       "      <th>12419</th>\n",
       "      <td>0.82</td>\n",
       "      <td>0.85</td>\n",
       "      <td>4</td>\n",
       "      <td>223</td>\n",
       "      <td>5</td>\n",
       "      <td>0</td>\n",
       "      <td>1</td>\n",
       "      <td>0</td>\n",
       "      <td>technical</td>\n",
       "      <td>medium</td>\n",
       "    </tr>\n",
       "    <tr>\n",
       "      <th>162</th>\n",
       "      <td>0.45</td>\n",
       "      <td>0.51</td>\n",
       "      <td>2</td>\n",
       "      <td>147</td>\n",
       "      <td>3</td>\n",
       "      <td>0</td>\n",
       "      <td>1</td>\n",
       "      <td>0</td>\n",
       "      <td>sales</td>\n",
       "      <td>low</td>\n",
       "    </tr>\n",
       "  </tbody>\n",
       "</table>\n",
       "</div>"
      ],
      "text/plain": [
       "       satisfaction_level  last_evaluation  number_project  \\\n",
       "14230                0.76             0.89               5   \n",
       "1503                 0.40             0.46               2   \n",
       "12347                0.11             0.80               6   \n",
       "12419                0.82             0.85               4   \n",
       "162                  0.45             0.51               2   \n",
       "\n",
       "       average_montly_hours  time_spend_company  Work_accident  left  \\\n",
       "14230                   262                   5              0     1   \n",
       "1503                    155                   3              0     1   \n",
       "12347                   282                   4              0     1   \n",
       "12419                   223                   5              0     1   \n",
       "162                     147                   3              0     1   \n",
       "\n",
       "       promotion_last_5years Department  salary  \n",
       "14230                      0      sales     low  \n",
       "1503                       0    support  medium  \n",
       "12347                      0  technical  medium  \n",
       "12419                      0  technical  medium  \n",
       "162                        0      sales     low  "
      ]
     },
     "execution_count": 6,
     "metadata": {},
     "output_type": "execute_result"
    }
   ],
   "source": [
    "df_left = df[df.left == 1]\n",
    "df_left.sample(5)"
   ]
  },
  {
   "cell_type": "code",
   "execution_count": 7,
   "id": "02525d81",
   "metadata": {
    "execution": {
     "iopub.execute_input": "2022-04-06T13:50:31.238867Z",
     "iopub.status.busy": "2022-04-06T13:50:31.238129Z",
     "iopub.status.idle": "2022-04-06T13:50:31.242733Z",
     "shell.execute_reply": "2022-04-06T13:50:31.243236Z",
     "shell.execute_reply.started": "2022-04-06T13:35:25.673669Z"
    },
    "papermill": {
     "duration": 0.043547,
     "end_time": "2022-04-06T13:50:31.243406",
     "exception": false,
     "start_time": "2022-04-06T13:50:31.199859",
     "status": "completed"
    },
    "tags": []
   },
   "outputs": [
    {
     "data": {
      "text/plain": [
       "(3571, 10)"
      ]
     },
     "execution_count": 7,
     "metadata": {},
     "output_type": "execute_result"
    }
   ],
   "source": [
    "df_left.shape"
   ]
  },
  {
   "cell_type": "code",
   "execution_count": 8,
   "id": "d72362aa",
   "metadata": {
    "execution": {
     "iopub.execute_input": "2022-04-06T13:50:31.320589Z",
     "iopub.status.busy": "2022-04-06T13:50:31.319855Z",
     "iopub.status.idle": "2022-04-06T13:50:31.334784Z",
     "shell.execute_reply": "2022-04-06T13:50:31.335296Z",
     "shell.execute_reply.started": "2022-04-06T13:35:25.681335Z"
    },
    "papermill": {
     "duration": 0.055393,
     "end_time": "2022-04-06T13:50:31.335503",
     "exception": false,
     "start_time": "2022-04-06T13:50:31.280110",
     "status": "completed"
    },
    "tags": []
   },
   "outputs": [
    {
     "data": {
      "text/html": [
       "<div>\n",
       "<style scoped>\n",
       "    .dataframe tbody tr th:only-of-type {\n",
       "        vertical-align: middle;\n",
       "    }\n",
       "\n",
       "    .dataframe tbody tr th {\n",
       "        vertical-align: top;\n",
       "    }\n",
       "\n",
       "    .dataframe thead th {\n",
       "        text-align: right;\n",
       "    }\n",
       "</style>\n",
       "<table border=\"1\" class=\"dataframe\">\n",
       "  <thead>\n",
       "    <tr style=\"text-align: right;\">\n",
       "      <th></th>\n",
       "      <th>satisfaction_level</th>\n",
       "      <th>last_evaluation</th>\n",
       "      <th>number_project</th>\n",
       "      <th>average_montly_hours</th>\n",
       "      <th>time_spend_company</th>\n",
       "      <th>Work_accident</th>\n",
       "      <th>left</th>\n",
       "      <th>promotion_last_5years</th>\n",
       "      <th>Department</th>\n",
       "      <th>salary</th>\n",
       "    </tr>\n",
       "  </thead>\n",
       "  <tbody>\n",
       "    <tr>\n",
       "      <th>13118</th>\n",
       "      <td>0.18</td>\n",
       "      <td>0.90</td>\n",
       "      <td>4</td>\n",
       "      <td>282</td>\n",
       "      <td>4</td>\n",
       "      <td>0</td>\n",
       "      <td>0</td>\n",
       "      <td>0</td>\n",
       "      <td>product_mng</td>\n",
       "      <td>medium</td>\n",
       "    </tr>\n",
       "    <tr>\n",
       "      <th>10162</th>\n",
       "      <td>0.67</td>\n",
       "      <td>0.76</td>\n",
       "      <td>2</td>\n",
       "      <td>210</td>\n",
       "      <td>2</td>\n",
       "      <td>0</td>\n",
       "      <td>0</td>\n",
       "      <td>0</td>\n",
       "      <td>sales</td>\n",
       "      <td>medium</td>\n",
       "    </tr>\n",
       "    <tr>\n",
       "      <th>2502</th>\n",
       "      <td>0.63</td>\n",
       "      <td>0.61</td>\n",
       "      <td>6</td>\n",
       "      <td>118</td>\n",
       "      <td>2</td>\n",
       "      <td>0</td>\n",
       "      <td>0</td>\n",
       "      <td>0</td>\n",
       "      <td>IT</td>\n",
       "      <td>low</td>\n",
       "    </tr>\n",
       "    <tr>\n",
       "      <th>8108</th>\n",
       "      <td>0.67</td>\n",
       "      <td>0.83</td>\n",
       "      <td>5</td>\n",
       "      <td>269</td>\n",
       "      <td>2</td>\n",
       "      <td>0</td>\n",
       "      <td>0</td>\n",
       "      <td>0</td>\n",
       "      <td>sales</td>\n",
       "      <td>medium</td>\n",
       "    </tr>\n",
       "    <tr>\n",
       "      <th>2869</th>\n",
       "      <td>0.99</td>\n",
       "      <td>0.56</td>\n",
       "      <td>3</td>\n",
       "      <td>193</td>\n",
       "      <td>3</td>\n",
       "      <td>1</td>\n",
       "      <td>0</td>\n",
       "      <td>0</td>\n",
       "      <td>technical</td>\n",
       "      <td>medium</td>\n",
       "    </tr>\n",
       "  </tbody>\n",
       "</table>\n",
       "</div>"
      ],
      "text/plain": [
       "       satisfaction_level  last_evaluation  number_project  \\\n",
       "13118                0.18             0.90               4   \n",
       "10162                0.67             0.76               2   \n",
       "2502                 0.63             0.61               6   \n",
       "8108                 0.67             0.83               5   \n",
       "2869                 0.99             0.56               3   \n",
       "\n",
       "       average_montly_hours  time_spend_company  Work_accident  left  \\\n",
       "13118                   282                   4              0     0   \n",
       "10162                   210                   2              0     0   \n",
       "2502                    118                   2              0     0   \n",
       "8108                    269                   2              0     0   \n",
       "2869                    193                   3              1     0   \n",
       "\n",
       "       promotion_last_5years   Department  salary  \n",
       "13118                      0  product_mng  medium  \n",
       "10162                      0        sales  medium  \n",
       "2502                       0           IT     low  \n",
       "8108                       0        sales  medium  \n",
       "2869                       0    technical  medium  "
      ]
     },
     "execution_count": 8,
     "metadata": {},
     "output_type": "execute_result"
    }
   ],
   "source": [
    "df_not = df[df.left == 0 ]\n",
    "df_not.sample(5)"
   ]
  },
  {
   "cell_type": "code",
   "execution_count": 9,
   "id": "15593a47",
   "metadata": {
    "execution": {
     "iopub.execute_input": "2022-04-06T13:50:31.411666Z",
     "iopub.status.busy": "2022-04-06T13:50:31.410938Z",
     "iopub.status.idle": "2022-04-06T13:50:31.415917Z",
     "shell.execute_reply": "2022-04-06T13:50:31.416418Z",
     "shell.execute_reply.started": "2022-04-06T13:35:25.701223Z"
    },
    "papermill": {
     "duration": 0.044724,
     "end_time": "2022-04-06T13:50:31.416633",
     "exception": false,
     "start_time": "2022-04-06T13:50:31.371909",
     "status": "completed"
    },
    "tags": []
   },
   "outputs": [
    {
     "data": {
      "text/plain": [
       "(11428, 10)"
      ]
     },
     "execution_count": 9,
     "metadata": {},
     "output_type": "execute_result"
    }
   ],
   "source": [
    "df_not.shape"
   ]
  },
  {
   "cell_type": "code",
   "execution_count": 10,
   "id": "67db9e5a",
   "metadata": {
    "execution": {
     "iopub.execute_input": "2022-04-06T13:50:31.496763Z",
     "iopub.status.busy": "2022-04-06T13:50:31.495937Z",
     "iopub.status.idle": "2022-04-06T13:50:31.499065Z",
     "shell.execute_reply": "2022-04-06T13:50:31.498448Z",
     "shell.execute_reply.started": "2022-04-06T13:35:25.707947Z"
    },
    "papermill": {
     "duration": 0.044762,
     "end_time": "2022-04-06T13:50:31.499208",
     "exception": false,
     "start_time": "2022-04-06T13:50:31.454446",
     "status": "completed"
    },
    "tags": []
   },
   "outputs": [],
   "source": [
    "# Observation = Number of Employees left is more than number of employees working"
   ]
  },
  {
   "cell_type": "code",
   "execution_count": 11,
   "id": "6ceb5be7",
   "metadata": {
    "execution": {
     "iopub.execute_input": "2022-04-06T13:50:31.584016Z",
     "iopub.status.busy": "2022-04-06T13:50:31.583124Z",
     "iopub.status.idle": "2022-04-06T13:50:31.598553Z",
     "shell.execute_reply": "2022-04-06T13:50:31.599098Z",
     "shell.execute_reply.started": "2022-04-06T13:35:25.717133Z"
    },
    "papermill": {
     "duration": 0.062601,
     "end_time": "2022-04-06T13:50:31.599270",
     "exception": false,
     "start_time": "2022-04-06T13:50:31.536669",
     "status": "completed"
    },
    "tags": []
   },
   "outputs": [
    {
     "data": {
      "text/html": [
       "<div>\n",
       "<style scoped>\n",
       "    .dataframe tbody tr th:only-of-type {\n",
       "        vertical-align: middle;\n",
       "    }\n",
       "\n",
       "    .dataframe tbody tr th {\n",
       "        vertical-align: top;\n",
       "    }\n",
       "\n",
       "    .dataframe thead th {\n",
       "        text-align: right;\n",
       "    }\n",
       "</style>\n",
       "<table border=\"1\" class=\"dataframe\">\n",
       "  <thead>\n",
       "    <tr style=\"text-align: right;\">\n",
       "      <th></th>\n",
       "      <th>satisfaction_level</th>\n",
       "      <th>last_evaluation</th>\n",
       "      <th>number_project</th>\n",
       "      <th>average_montly_hours</th>\n",
       "      <th>time_spend_company</th>\n",
       "      <th>Work_accident</th>\n",
       "      <th>promotion_last_5years</th>\n",
       "    </tr>\n",
       "    <tr>\n",
       "      <th>left</th>\n",
       "      <th></th>\n",
       "      <th></th>\n",
       "      <th></th>\n",
       "      <th></th>\n",
       "      <th></th>\n",
       "      <th></th>\n",
       "      <th></th>\n",
       "    </tr>\n",
       "  </thead>\n",
       "  <tbody>\n",
       "    <tr>\n",
       "      <th>0</th>\n",
       "      <td>0.666810</td>\n",
       "      <td>0.715473</td>\n",
       "      <td>3.786664</td>\n",
       "      <td>199.060203</td>\n",
       "      <td>3.380032</td>\n",
       "      <td>0.175009</td>\n",
       "      <td>0.026251</td>\n",
       "    </tr>\n",
       "    <tr>\n",
       "      <th>1</th>\n",
       "      <td>0.440098</td>\n",
       "      <td>0.718113</td>\n",
       "      <td>3.855503</td>\n",
       "      <td>207.419210</td>\n",
       "      <td>3.876505</td>\n",
       "      <td>0.047326</td>\n",
       "      <td>0.005321</td>\n",
       "    </tr>\n",
       "  </tbody>\n",
       "</table>\n",
       "</div>"
      ],
      "text/plain": [
       "      satisfaction_level  last_evaluation  number_project  \\\n",
       "left                                                        \n",
       "0               0.666810         0.715473        3.786664   \n",
       "1               0.440098         0.718113        3.855503   \n",
       "\n",
       "      average_montly_hours  time_spend_company  Work_accident  \\\n",
       "left                                                            \n",
       "0               199.060203            3.380032       0.175009   \n",
       "1               207.419210            3.876505       0.047326   \n",
       "\n",
       "      promotion_last_5years  \n",
       "left                         \n",
       "0                  0.026251  \n",
       "1                  0.005321  "
      ]
     },
     "execution_count": 11,
     "metadata": {},
     "output_type": "execute_result"
    }
   ],
   "source": [
    "df.groupby(['left']).mean() # 0 = working , 1 = left"
   ]
  },
  {
   "cell_type": "markdown",
   "id": "e77a5cf0",
   "metadata": {
    "papermill": {
     "duration": 0.037461,
     "end_time": "2022-04-06T13:50:31.674680",
     "exception": false,
     "start_time": "2022-04-06T13:50:31.637219",
     "status": "completed"
    },
    "tags": []
   },
   "source": [
    "# Observations: \n",
    "    * Satisfaction level is low for left\n",
    "    * Avg.monthly working hours are high for left\n",
    "    * promotion for last 5 years are very low for left "
   ]
  },
  {
   "cell_type": "code",
   "execution_count": 12,
   "id": "3d5455ae",
   "metadata": {
    "execution": {
     "iopub.execute_input": "2022-04-06T13:50:31.753667Z",
     "iopub.status.busy": "2022-04-06T13:50:31.752989Z",
     "iopub.status.idle": "2022-04-06T13:50:31.762062Z",
     "shell.execute_reply": "2022-04-06T13:50:31.762568Z",
     "shell.execute_reply.started": "2022-04-06T13:35:25.741196Z"
    },
    "papermill": {
     "duration": 0.050439,
     "end_time": "2022-04-06T13:50:31.762749",
     "exception": false,
     "start_time": "2022-04-06T13:50:31.712310",
     "status": "completed"
    },
    "tags": []
   },
   "outputs": [
    {
     "data": {
      "text/plain": [
       "low       2172\n",
       "medium    1317\n",
       "high        82\n",
       "Name: salary, dtype: int64"
      ]
     },
     "execution_count": 12,
     "metadata": {},
     "output_type": "execute_result"
    }
   ],
   "source": [
    "df_left['salary'].value_counts()"
   ]
  },
  {
   "cell_type": "code",
   "execution_count": 13,
   "id": "b4f4216c",
   "metadata": {
    "execution": {
     "iopub.execute_input": "2022-04-06T13:50:31.841476Z",
     "iopub.status.busy": "2022-04-06T13:50:31.840792Z",
     "iopub.status.idle": "2022-04-06T13:50:31.848395Z",
     "shell.execute_reply": "2022-04-06T13:50:31.849017Z",
     "shell.execute_reply.started": "2022-04-06T13:35:25.756184Z"
    },
    "papermill": {
     "duration": 0.048781,
     "end_time": "2022-04-06T13:50:31.849186",
     "exception": false,
     "start_time": "2022-04-06T13:50:31.800405",
     "status": "completed"
    },
    "tags": []
   },
   "outputs": [
    {
     "data": {
      "text/plain": [
       "low       5144\n",
       "medium    5129\n",
       "high      1155\n",
       "Name: salary, dtype: int64"
      ]
     },
     "execution_count": 13,
     "metadata": {},
     "output_type": "execute_result"
    }
   ],
   "source": [
    "df_not['salary'].value_counts()"
   ]
  },
  {
   "cell_type": "code",
   "execution_count": 14,
   "id": "8fbd1093",
   "metadata": {
    "execution": {
     "iopub.execute_input": "2022-04-06T13:50:31.928820Z",
     "iopub.status.busy": "2022-04-06T13:50:31.927881Z",
     "iopub.status.idle": "2022-04-06T13:50:32.320788Z",
     "shell.execute_reply": "2022-04-06T13:50:32.320040Z",
     "shell.execute_reply.started": "2022-04-06T13:35:25.832409Z"
    },
    "papermill": {
     "duration": 0.433621,
     "end_time": "2022-04-06T13:50:32.320953",
     "exception": false,
     "start_time": "2022-04-06T13:50:31.887332",
     "status": "completed"
    },
    "tags": []
   },
   "outputs": [
    {
     "data": {
      "text/plain": [
       "<seaborn.axisgrid.FacetGrid at 0x7f9106332dd0>"
      ]
     },
     "execution_count": 14,
     "metadata": {},
     "output_type": "execute_result"
    },
    {
     "data": {
      "image/png": "[encoded data removed]",
      "text/plain": [
       "<Figure size 402.375x360 with 1 Axes>"
      ]
     },
     "metadata": {
      "needs_background": "light"
     },
     "output_type": "display_data"
    }
   ],
   "source": [
    "sns.catplot(x ='salary' ,hue='left',kind=\"count\" , data=df)"
   ]
  },
  {
   "cell_type": "markdown",
   "id": "83ac648c",
   "metadata": {
    "papermill": {
     "duration": 0.040578,
     "end_time": "2022-04-06T13:50:32.400951",
     "exception": false,
     "start_time": "2022-04-06T13:50:32.360373",
     "status": "completed"
    },
    "tags": []
   },
   "source": [
    "# Observation:\n",
    "    Comparing with employees working and left the company\n",
    "    we can find out that employees with high salaries are likely to not leave the company"
   ]
  },
  {
   "cell_type": "code",
   "execution_count": 15,
   "id": "f23a957a",
   "metadata": {
    "execution": {
     "iopub.execute_input": "2022-04-06T13:50:32.486573Z",
     "iopub.status.busy": "2022-04-06T13:50:32.485897Z",
     "iopub.status.idle": "2022-04-06T13:50:32.984739Z",
     "shell.execute_reply": "2022-04-06T13:50:32.983875Z",
     "shell.execute_reply.started": "2022-04-06T13:35:26.117041Z"
    },
    "papermill": {
     "duration": 0.54372,
     "end_time": "2022-04-06T13:50:32.984898",
     "exception": false,
     "start_time": "2022-04-06T13:50:32.441178",
     "status": "completed"
    },
    "tags": []
   },
   "outputs": [
    {
     "data": {
      "image/png": "[encoded data removed]",
      "text/plain": [
       "<Figure size 402.375x360 with 1 Axes>"
      ]
     },
     "metadata": {
      "needs_background": "light"
     },
     "output_type": "display_data"
    }
   ],
   "source": [
    "import matplotlib.pyplot as plt\n",
    "sns.catplot(y='Department', hue='left', kind=\"count\",margin_titles=True, data=df)\n",
    "plt.grid()"
   ]
  },
  {
   "cell_type": "markdown",
   "id": "efd665ef",
   "metadata": {
    "papermill": {
     "duration": 0.042818,
     "end_time": "2022-04-06T13:50:33.068852",
     "exception": false,
     "start_time": "2022-04-06T13:50:33.026034",
     "status": "completed"
    },
    "tags": []
   },
   "source": [
    "# Observation :\n",
    "    * sales,technical and support departments shows the highest number of people left count ranging 500 to 1000\n",
    "    * Independent variables : Satisfaction Level \n",
    "                              Average Monthly Hours\n",
    "                              Promotion Last 5 Years\n",
    "                              Salary"
   ]
  },
  {
   "cell_type": "code",
   "execution_count": 16,
   "id": "60c7392c",
   "metadata": {
    "execution": {
     "iopub.execute_input": "2022-04-06T13:50:33.165083Z",
     "iopub.status.busy": "2022-04-06T13:50:33.164317Z",
     "iopub.status.idle": "2022-04-06T13:50:33.167316Z",
     "shell.execute_reply": "2022-04-06T13:50:33.167834Z",
     "shell.execute_reply.started": "2022-04-06T13:35:26.536971Z"
    },
    "papermill": {
     "duration": 0.057018,
     "end_time": "2022-04-06T13:50:33.168009",
     "exception": false,
     "start_time": "2022-04-06T13:50:33.110991",
     "status": "completed"
    },
    "tags": []
   },
   "outputs": [
    {
     "data": {
      "text/html": [
       "<div>\n",
       "<style scoped>\n",
       "    .dataframe tbody tr th:only-of-type {\n",
       "        vertical-align: middle;\n",
       "    }\n",
       "\n",
       "    .dataframe tbody tr th {\n",
       "        vertical-align: top;\n",
       "    }\n",
       "\n",
       "    .dataframe thead th {\n",
       "        text-align: right;\n",
       "    }\n",
       "</style>\n",
       "<table border=\"1\" class=\"dataframe\">\n",
       "  <thead>\n",
       "    <tr style=\"text-align: right;\">\n",
       "      <th></th>\n",
       "      <th>satisfaction_level</th>\n",
       "      <th>average_montly_hours</th>\n",
       "      <th>promotion_last_5years</th>\n",
       "      <th>salary</th>\n",
       "    </tr>\n",
       "  </thead>\n",
       "  <tbody>\n",
       "    <tr>\n",
       "      <th>5459</th>\n",
       "      <td>0.66</td>\n",
       "      <td>228</td>\n",
       "      <td>0</td>\n",
       "      <td>low</td>\n",
       "    </tr>\n",
       "    <tr>\n",
       "      <th>9027</th>\n",
       "      <td>0.69</td>\n",
       "      <td>219</td>\n",
       "      <td>0</td>\n",
       "      <td>low</td>\n",
       "    </tr>\n",
       "    <tr>\n",
       "      <th>7727</th>\n",
       "      <td>0.61</td>\n",
       "      <td>149</td>\n",
       "      <td>0</td>\n",
       "      <td>medium</td>\n",
       "    </tr>\n",
       "    <tr>\n",
       "      <th>6617</th>\n",
       "      <td>0.68</td>\n",
       "      <td>197</td>\n",
       "      <td>0</td>\n",
       "      <td>low</td>\n",
       "    </tr>\n",
       "    <tr>\n",
       "      <th>13623</th>\n",
       "      <td>0.50</td>\n",
       "      <td>258</td>\n",
       "      <td>0</td>\n",
       "      <td>medium</td>\n",
       "    </tr>\n",
       "  </tbody>\n",
       "</table>\n",
       "</div>"
      ],
      "text/plain": [
       "       satisfaction_level  average_montly_hours  promotion_last_5years  salary\n",
       "5459                 0.66                   228                      0     low\n",
       "9027                 0.69                   219                      0     low\n",
       "7727                 0.61                   149                      0  medium\n",
       "6617                 0.68                   197                      0     low\n",
       "13623                0.50                   258                      0  medium"
      ]
     },
     "execution_count": 16,
     "metadata": {},
     "output_type": "execute_result"
    }
   ],
   "source": [
    "df_new = df[['satisfaction_level','average_montly_hours','promotion_last_5years','salary']]\n",
    "df_new.sample(5)"
   ]
  },
  {
   "cell_type": "code",
   "execution_count": 17,
   "id": "13b812eb",
   "metadata": {
    "execution": {
     "iopub.execute_input": "2022-04-06T13:50:33.255366Z",
     "iopub.status.busy": "2022-04-06T13:50:33.252118Z",
     "iopub.status.idle": "2022-04-06T13:50:33.259944Z",
     "shell.execute_reply": "2022-04-06T13:50:33.260518Z",
     "shell.execute_reply.started": "2022-04-06T13:35:26.552980Z"
    },
    "papermill": {
     "duration": 0.052168,
     "end_time": "2022-04-06T13:50:33.260701",
     "exception": false,
     "start_time": "2022-04-06T13:50:33.208533",
     "status": "completed"
    },
    "tags": []
   },
   "outputs": [],
   "source": [
    "df_new_salary = pd.get_dummies(df_new.salary, prefix='salary')"
   ]
  },
  {
   "cell_type": "code",
   "execution_count": 18,
   "id": "891cd433",
   "metadata": {
    "execution": {
     "iopub.execute_input": "2022-04-06T13:50:33.348637Z",
     "iopub.status.busy": "2022-04-06T13:50:33.347910Z",
     "iopub.status.idle": "2022-04-06T13:50:33.351643Z",
     "shell.execute_reply": "2022-04-06T13:50:33.350951Z",
     "shell.execute_reply.started": "2022-04-06T13:35:26.564926Z"
    },
    "papermill": {
     "duration": 0.050086,
     "end_time": "2022-04-06T13:50:33.351801",
     "exception": false,
     "start_time": "2022-04-06T13:50:33.301715",
     "status": "completed"
    },
    "tags": []
   },
   "outputs": [],
   "source": [
    "df_new_dummy = pd.concat([df_new,df_new_salary],axis='columns')"
   ]
  },
  {
   "cell_type": "code",
   "execution_count": 19,
   "id": "2f791e9e",
   "metadata": {
    "execution": {
     "iopub.execute_input": "2022-04-06T13:50:33.442720Z",
     "iopub.status.busy": "2022-04-06T13:50:33.441984Z",
     "iopub.status.idle": "2022-04-06T13:50:33.450955Z",
     "shell.execute_reply": "2022-04-06T13:50:33.451478Z",
     "shell.execute_reply.started": "2022-04-06T13:35:26.574310Z"
    },
    "papermill": {
     "duration": 0.058889,
     "end_time": "2022-04-06T13:50:33.451652",
     "exception": false,
     "start_time": "2022-04-06T13:50:33.392763",
     "status": "completed"
    },
    "tags": []
   },
   "outputs": [
    {
     "data": {
      "text/html": [
       "<div>\n",
       "<style scoped>\n",
       "    .dataframe tbody tr th:only-of-type {\n",
       "        vertical-align: middle;\n",
       "    }\n",
       "\n",
       "    .dataframe tbody tr th {\n",
       "        vertical-align: top;\n",
       "    }\n",
       "\n",
       "    .dataframe thead th {\n",
       "        text-align: right;\n",
       "    }\n",
       "</style>\n",
       "<table border=\"1\" class=\"dataframe\">\n",
       "  <thead>\n",
       "    <tr style=\"text-align: right;\">\n",
       "      <th></th>\n",
       "      <th>satisfaction_level</th>\n",
       "      <th>average_montly_hours</th>\n",
       "      <th>promotion_last_5years</th>\n",
       "      <th>salary</th>\n",
       "      <th>salary_high</th>\n",
       "      <th>salary_low</th>\n",
       "      <th>salary_medium</th>\n",
       "    </tr>\n",
       "  </thead>\n",
       "  <tbody>\n",
       "    <tr>\n",
       "      <th>3103</th>\n",
       "      <td>0.99</td>\n",
       "      <td>208</td>\n",
       "      <td>0</td>\n",
       "      <td>medium</td>\n",
       "      <td>0</td>\n",
       "      <td>0</td>\n",
       "      <td>1</td>\n",
       "    </tr>\n",
       "    <tr>\n",
       "      <th>4707</th>\n",
       "      <td>0.49</td>\n",
       "      <td>249</td>\n",
       "      <td>0</td>\n",
       "      <td>medium</td>\n",
       "      <td>0</td>\n",
       "      <td>0</td>\n",
       "      <td>1</td>\n",
       "    </tr>\n",
       "    <tr>\n",
       "      <th>4625</th>\n",
       "      <td>0.78</td>\n",
       "      <td>260</td>\n",
       "      <td>0</td>\n",
       "      <td>medium</td>\n",
       "      <td>0</td>\n",
       "      <td>0</td>\n",
       "      <td>1</td>\n",
       "    </tr>\n",
       "    <tr>\n",
       "      <th>12194</th>\n",
       "      <td>0.89</td>\n",
       "      <td>275</td>\n",
       "      <td>0</td>\n",
       "      <td>medium</td>\n",
       "      <td>0</td>\n",
       "      <td>0</td>\n",
       "      <td>1</td>\n",
       "    </tr>\n",
       "    <tr>\n",
       "      <th>9363</th>\n",
       "      <td>0.77</td>\n",
       "      <td>226</td>\n",
       "      <td>0</td>\n",
       "      <td>low</td>\n",
       "      <td>0</td>\n",
       "      <td>1</td>\n",
       "      <td>0</td>\n",
       "    </tr>\n",
       "  </tbody>\n",
       "</table>\n",
       "</div>"
      ],
      "text/plain": [
       "       satisfaction_level  average_montly_hours  promotion_last_5years  \\\n",
       "3103                 0.99                   208                      0   \n",
       "4707                 0.49                   249                      0   \n",
       "4625                 0.78                   260                      0   \n",
       "12194                0.89                   275                      0   \n",
       "9363                 0.77                   226                      0   \n",
       "\n",
       "       salary  salary_high  salary_low  salary_medium  \n",
       "3103   medium            0           0              1  \n",
       "4707   medium            0           0              1  \n",
       "4625   medium            0           0              1  \n",
       "12194  medium            0           0              1  \n",
       "9363      low            0           1              0  "
      ]
     },
     "execution_count": 19,
     "metadata": {},
     "output_type": "execute_result"
    }
   ],
   "source": [
    "df_new_dummy.sample(5)"
   ]
  },
  {
   "cell_type": "code",
   "execution_count": 20,
   "id": "1ea4d337",
   "metadata": {
    "execution": {
     "iopub.execute_input": "2022-04-06T13:50:33.538189Z",
     "iopub.status.busy": "2022-04-06T13:50:33.537473Z",
     "iopub.status.idle": "2022-04-06T13:50:33.543865Z",
     "shell.execute_reply": "2022-04-06T13:50:33.543278Z",
     "shell.execute_reply.started": "2022-04-06T13:35:26.592407Z"
    },
    "papermill": {
     "duration": 0.051226,
     "end_time": "2022-04-06T13:50:33.544023",
     "exception": false,
     "start_time": "2022-04-06T13:50:33.492797",
     "status": "completed"
    },
    "tags": []
   },
   "outputs": [],
   "source": [
    "df_new_dummy.drop('salary',axis='columns',inplace=True)"
   ]
  },
  {
   "cell_type": "code",
   "execution_count": 21,
   "id": "d34eaf62",
   "metadata": {
    "execution": {
     "iopub.execute_input": "2022-04-06T13:50:33.639005Z",
     "iopub.status.busy": "2022-04-06T13:50:33.638285Z",
     "iopub.status.idle": "2022-04-06T13:50:33.645171Z",
     "shell.execute_reply": "2022-04-06T13:50:33.644628Z",
     "shell.execute_reply.started": "2022-04-06T13:35:26.603306Z"
    },
    "papermill": {
     "duration": 0.057508,
     "end_time": "2022-04-06T13:50:33.645311",
     "exception": false,
     "start_time": "2022-04-06T13:50:33.587803",
     "status": "completed"
    },
    "tags": []
   },
   "outputs": [
    {
     "data": {
      "text/html": [
       "<div>\n",
       "<style scoped>\n",
       "    .dataframe tbody tr th:only-of-type {\n",
       "        vertical-align: middle;\n",
       "    }\n",
       "\n",
       "    .dataframe tbody tr th {\n",
       "        vertical-align: top;\n",
       "    }\n",
       "\n",
       "    .dataframe thead th {\n",
       "        text-align: right;\n",
       "    }\n",
       "</style>\n",
       "<table border=\"1\" class=\"dataframe\">\n",
       "  <thead>\n",
       "    <tr style=\"text-align: right;\">\n",
       "      <th></th>\n",
       "      <th>satisfaction_level</th>\n",
       "      <th>average_montly_hours</th>\n",
       "      <th>promotion_last_5years</th>\n",
       "      <th>salary_high</th>\n",
       "      <th>salary_low</th>\n",
       "      <th>salary_medium</th>\n",
       "    </tr>\n",
       "  </thead>\n",
       "  <tbody>\n",
       "    <tr>\n",
       "      <th>9182</th>\n",
       "      <td>0.76</td>\n",
       "      <td>252</td>\n",
       "      <td>0</td>\n",
       "      <td>0</td>\n",
       "      <td>1</td>\n",
       "      <td>0</td>\n",
       "    </tr>\n",
       "    <tr>\n",
       "      <th>269</th>\n",
       "      <td>0.38</td>\n",
       "      <td>139</td>\n",
       "      <td>0</td>\n",
       "      <td>0</td>\n",
       "      <td>0</td>\n",
       "      <td>1</td>\n",
       "    </tr>\n",
       "    <tr>\n",
       "      <th>5177</th>\n",
       "      <td>0.88</td>\n",
       "      <td>267</td>\n",
       "      <td>0</td>\n",
       "      <td>0</td>\n",
       "      <td>1</td>\n",
       "      <td>0</td>\n",
       "    </tr>\n",
       "    <tr>\n",
       "      <th>8051</th>\n",
       "      <td>0.74</td>\n",
       "      <td>241</td>\n",
       "      <td>0</td>\n",
       "      <td>0</td>\n",
       "      <td>1</td>\n",
       "      <td>0</td>\n",
       "    </tr>\n",
       "    <tr>\n",
       "      <th>4506</th>\n",
       "      <td>0.74</td>\n",
       "      <td>135</td>\n",
       "      <td>1</td>\n",
       "      <td>0</td>\n",
       "      <td>0</td>\n",
       "      <td>1</td>\n",
       "    </tr>\n",
       "  </tbody>\n",
       "</table>\n",
       "</div>"
      ],
      "text/plain": [
       "      satisfaction_level  average_montly_hours  promotion_last_5years  \\\n",
       "9182                0.76                   252                      0   \n",
       "269                 0.38                   139                      0   \n",
       "5177                0.88                   267                      0   \n",
       "8051                0.74                   241                      0   \n",
       "4506                0.74                   135                      1   \n",
       "\n",
       "      salary_high  salary_low  salary_medium  \n",
       "9182            0           1              0  \n",
       "269             0           0              1  \n",
       "5177            0           1              0  \n",
       "8051            0           1              0  \n",
       "4506            0           0              1  "
      ]
     },
     "execution_count": 21,
     "metadata": {},
     "output_type": "execute_result"
    }
   ],
   "source": [
    "df_new_dummy.sample(5)"
   ]
  },
  {
   "cell_type": "markdown",
   "id": "55cf68df",
   "metadata": {
    "papermill": {
     "duration": 0.041544,
     "end_time": "2022-04-06T13:50:33.728611",
     "exception": false,
     "start_time": "2022-04-06T13:50:33.687067",
     "status": "completed"
    },
    "tags": []
   },
   "source": [
    "# Model Bulding"
   ]
  },
  {
   "cell_type": "code",
   "execution_count": 22,
   "id": "2db32660",
   "metadata": {
    "execution": {
     "iopub.execute_input": "2022-04-06T13:50:33.817058Z",
     "iopub.status.busy": "2022-04-06T13:50:33.816360Z",
     "iopub.status.idle": "2022-04-06T13:50:33.819321Z",
     "shell.execute_reply": "2022-04-06T13:50:33.818781Z",
     "shell.execute_reply.started": "2022-04-06T13:35:26.623386Z"
    },
    "papermill": {
     "duration": 0.049219,
     "end_time": "2022-04-06T13:50:33.819475",
     "exception": false,
     "start_time": "2022-04-06T13:50:33.770256",
     "status": "completed"
    },
    "tags": []
   },
   "outputs": [],
   "source": [
    "X = df_new_dummy\n",
    "y = df.left"
   ]
  },
  {
   "cell_type": "code",
   "execution_count": 23,
   "id": "7542771f",
   "metadata": {
    "execution": {
     "iopub.execute_input": "2022-04-06T13:50:33.911406Z",
     "iopub.status.busy": "2022-04-06T13:50:33.910670Z",
     "iopub.status.idle": "2022-04-06T13:50:34.123008Z",
     "shell.execute_reply": "2022-04-06T13:50:34.121937Z",
     "shell.execute_reply.started": "2022-04-06T13:35:26.630742Z"
    },
    "papermill": {
     "duration": 0.261832,
     "end_time": "2022-04-06T13:50:34.123167",
     "exception": false,
     "start_time": "2022-04-06T13:50:33.861335",
     "status": "completed"
    },
    "tags": []
   },
   "outputs": [],
   "source": [
    "from sklearn.model_selection import train_test_split\n",
    "X_train,X_test,y_train,y_test = train_test_split(X,y ,test_size=0.2)"
   ]
  },
  {
   "cell_type": "code",
   "execution_count": 24,
   "id": "4c7bc405",
   "metadata": {
    "execution": {
     "iopub.execute_input": "2022-04-06T13:50:34.212521Z",
     "iopub.status.busy": "2022-04-06T13:50:34.211814Z",
     "iopub.status.idle": "2022-04-06T13:50:34.291181Z",
     "shell.execute_reply": "2022-04-06T13:50:34.290515Z",
     "shell.execute_reply.started": "2022-04-06T13:35:26.642056Z"
    },
    "papermill": {
     "duration": 0.1255,
     "end_time": "2022-04-06T13:50:34.291328",
     "exception": false,
     "start_time": "2022-04-06T13:50:34.165828",
     "status": "completed"
    },
    "tags": []
   },
   "outputs": [],
   "source": [
    "from sklearn.linear_model import LogisticRegression\n",
    "lr = LogisticRegression()"
   ]
  },
  {
   "cell_type": "code",
   "execution_count": 25,
   "id": "2db64c16",
   "metadata": {
    "execution": {
     "iopub.execute_input": "2022-04-06T13:50:34.378946Z",
     "iopub.status.busy": "2022-04-06T13:50:34.377905Z",
     "iopub.status.idle": "2022-04-06T13:50:34.581792Z",
     "shell.execute_reply": "2022-04-06T13:50:34.580432Z",
     "shell.execute_reply.started": "2022-04-06T13:35:26.650004Z"
    },
    "papermill": {
     "duration": 0.248659,
     "end_time": "2022-04-06T13:50:34.582058",
     "exception": false,
     "start_time": "2022-04-06T13:50:34.333399",
     "status": "completed"
    },
    "tags": []
   },
   "outputs": [
    {
     "name": "stderr",
     "output_type": "stream",
     "text": [
      "/opt/conda/lib/python3.7/site-packages/sklearn/linear_model/_logistic.py:818: ConvergenceWarning: lbfgs failed to converge (status=1):\n",
      "STOP: TOTAL NO. of ITERATIONS REACHED LIMIT.\n",
      "\n",
      "Increase the number of iterations (max_iter) or scale the data as shown in:\n",
      "    https://scikit-learn.org/stable/modules/preprocessing.html\n",
      "Please also refer to the documentation for alternative solver options:\n",
      "    https://scikit-learn.org/stable/modules/linear_model.html#logistic-regression\n",
      "  extra_warning_msg=_LOGISTIC_SOLVER_CONVERGENCE_MSG,\n"
     ]
    },
    {
     "data": {
      "text/plain": [
       "LogisticRegression()"
      ]
     },
     "execution_count": 25,
     "metadata": {},
     "output_type": "execute_result"
    }
   ],
   "source": [
    "lr.fit(X_train,y_train)"
   ]
  },
  {
   "cell_type": "code",
   "execution_count": 26,
   "id": "502f3253",
   "metadata": {
    "execution": {
     "iopub.execute_input": "2022-04-06T13:50:34.727576Z",
     "iopub.status.busy": "2022-04-06T13:50:34.726414Z",
     "iopub.status.idle": "2022-04-06T13:50:34.732388Z",
     "shell.execute_reply": "2022-04-06T13:50:34.733528Z",
     "shell.execute_reply.started": "2022-04-06T13:35:26.811289Z"
    },
    "papermill": {
     "duration": 0.067392,
     "end_time": "2022-04-06T13:50:34.733830",
     "exception": false,
     "start_time": "2022-04-06T13:50:34.666438",
     "status": "completed"
    },
    "tags": []
   },
   "outputs": [
    {
     "data": {
      "text/plain": [
       "array([0, 0, 0, ..., 0, 1, 0])"
      ]
     },
     "execution_count": 26,
     "metadata": {},
     "output_type": "execute_result"
    }
   ],
   "source": [
    "lr.predict(X_test)"
   ]
  },
  {
   "cell_type": "code",
   "execution_count": 27,
   "id": "be0833fa",
   "metadata": {
    "execution": {
     "iopub.execute_input": "2022-04-06T13:50:34.886449Z",
     "iopub.status.busy": "2022-04-06T13:50:34.885320Z",
     "iopub.status.idle": "2022-04-06T13:50:34.891772Z",
     "shell.execute_reply": "2022-04-06T13:50:34.893574Z",
     "shell.execute_reply.started": "2022-04-06T13:35:26.825253Z"
    },
    "papermill": {
     "duration": 0.073594,
     "end_time": "2022-04-06T13:50:34.893853",
     "exception": false,
     "start_time": "2022-04-06T13:50:34.820259",
     "status": "completed"
    },
    "tags": []
   },
   "outputs": [
    {
     "data": {
      "text/plain": [
       "0.7776666666666666"
      ]
     },
     "execution_count": 27,
     "metadata": {},
     "output_type": "execute_result"
    }
   ],
   "source": [
    "lr.score(X_test,y_test)"
   ]
  },
  {
   "cell_type": "code",
   "execution_count": null,
   "id": "75a23720",
   "metadata": {
    "papermill": {
     "duration": 0.058201,
     "end_time": "2022-04-06T13:50:35.035050",
     "exception": false,
     "start_time": "2022-04-06T13:50:34.976849",
     "status": "completed"
    },
    "tags": []
   },
   "outputs": [],
   "source": []
  }
 ],
 "metadata": {
  "kernelspec": {
   "display_name": "Python 3",
   "language": "python",
   "name": "python3"
  },
  "language_info": {
   "codemirror_mode": {
    "name": "ipython",
    "version": 3
   },
   "file_extension": ".py",
   "mimetype": "text/x-python",
   "name": "python",
   "nbconvert_exporter": "python",
   "pygments_lexer": "ipython3",
   "version": "3.7.12"
  },
  "papermill": {
   "default_parameters": {},
   "duration": 17.438465,
   "end_time": "2022-04-06T13:50:35.790894",
   "environment_variables": {},
   "exception": null,
   "input_path": "__notebook__.ipynb",
   "output_path": "__notebook__.ipynb",
   "parameters": {},
   "start_time": "2022-04-06T13:50:18.352429",
   "version": "2.3.3"
  }
 },
 "nbformat": 4,
 "nbformat_minor": 5
}
